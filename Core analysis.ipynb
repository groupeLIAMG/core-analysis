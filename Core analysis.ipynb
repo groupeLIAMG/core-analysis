{
 "cells": [
  {
   "cell_type": "markdown",
   "metadata": {},
   "source": [
    "# Core analysis"
   ]
  },
  {
   "cell_type": "markdown",
   "metadata": {},
   "source": [
    "### Setup run"
   ]
  },
  {
   "cell_type": "code",
   "execution_count": null,
   "metadata": {},
   "outputs": [],
   "source": [
    "import tensorflow as tf\n",
    "import neptune\n",
    "\n",
    "from core_analysis.dataset import Dataset\n",
    "from core_analysis.architecture import Model\n",
    "from core_analysis.utils.visualize import (\n",
    "    Figure,\n",
    "    Image,\n",
    "    Mask,\n",
    "    Loss,\n",
    ")\n",
    "from core_analysis.utils.constants import (\n",
    "    MODEL_FILENAME,\n",
    "    LABELS_PATH,\n",
    "    TODAY,\n",
    "    NEPTUNE_PROJECT,\n",
    "    NEPTUNE_API_TOKEN,\n",
    ")"
   ]
  },
  {
   "cell_type": "markdown",
   "metadata": {},
   "source": [
    "##### Check the quantity of available GPUs"
   ]
  },
  {
   "cell_type": "code",
   "execution_count": null,
   "metadata": {},
   "outputs": [],
   "source": [
    "# Check the number of available GPUs.\n",
    "print(\"Num GPUs Available: \", len(tf.config.list_physical_devices(\"GPU\")))\n",
    "physical_devices = tf.config.list_physical_devices(\"GPU\")\n",
    "if len(physical_devices) > 0:\n",
    "    for i in range(len(physical_devices)):\n",
    "        tf.config.experimental.set_memory_growth(physical_devices[i], True)"
   ]
  },
  {
   "cell_type": "markdown",
   "metadata": {},
   "source": [
    "##### Setup arguments"
   ]
  },
  {
   "cell_type": "code",
   "execution_count": null,
   "metadata": {},
   "outputs": [],
   "source": [
    "WEIGHTS_FILENAME = MODEL_FILENAME\n",
    "DO_AUGMENT = False\n",
    "RUN_EAGERLY = False"
   ]
  },
  {
   "cell_type": "markdown",
   "metadata": {},
   "source": [
    "##### Setup notebook"
   ]
  },
  {
   "cell_type": "code",
   "execution_count": null,
   "metadata": {},
   "outputs": [],
   "source": [
    "run = neptune.init_run(\n",
    "    project=NEPTUNE_PROJECT,\n",
    "    api_token=NEPTUNE_API_TOKEN,\n",
    ")\n",
    "\n",
    "model = Model(WEIGHTS_FILENAME, RUN_EAGERLY)\n",
    "dataset = Dataset(LABELS_PATH)"
   ]
  },
  {
   "cell_type": "markdown",
   "metadata": {},
   "source": [
    "### Train"
   ]
  },
  {
   "cell_type": "code",
   "execution_count": null,
   "metadata": {},
   "outputs": [],
   "source": [
    "train_subset = dataset.subset(\"train\")\n",
    "val_subset = dataset.subset(\"val\")\n",
    "\n",
    "image = next(iter(train_subset.imgs.values()))\n",
    "Figure(\n",
    "    filename=\"image_masks\",\n",
    "    subplots=[\n",
    "        Image(image, draw_boxes=True),\n",
    "        *(Mask(image.masks[..., i]) for i in range(3)),\n",
    "    ],\n",
    ")\n",
    "Figure(subplots=[Image(image=image, mask=image.masks[..., 1], draw_boxes=True)])\n",
    "patches, masks = next(iter(train_subset))\n",
    "Figure(\n",
    "    filename=\"tiles\",\n",
    "    subplots=[Image(patches[0]), *(Mask(masks[0, ..., i]) for i in range(3))],\n",
    ")\n",
    "\n",
    "history = model.train(train_subset, val_subset)\n",
    "\n",
    "Figure(filename=f\"graph_losses_{TODAY}\", subplots=[Loss(history)])"
   ]
  },
  {
   "cell_type": "markdown",
   "metadata": {},
   "source": [
    "### Test"
   ]
  },
  {
   "cell_type": "code",
   "execution_count": null,
   "metadata": {},
   "outputs": [],
   "source": [
    "results = model.test(dataset.subset(\"test\"))\n",
    "\n",
    "image = next(iter(dataset.subset(\"test\").imgs.values()))\n",
    "pred = model.predict([image])\n",
    "Figure(\n",
    "    filename=\"predictions\",\n",
    "    subplots=[\n",
    "        Image(image),\n",
    "        Mask(image.masks[..., 1]),\n",
    "        *(Mask(pred[..., i]) for i in range(3)),\n",
    "    ],\n",
    ")\n",
    "Figure(\n",
    "    filename=\"predictions_with_images\",\n",
    "    subplots=[Image(image.without_background(), mask=pred[..., i]) for i in range(3)],\n",
    ")"
   ]
  },
  {
   "cell_type": "markdown",
   "metadata": {},
   "source": [
    "### Stop Neptune logging"
   ]
  },
  {
   "cell_type": "code",
   "execution_count": null,
   "metadata": {},
   "outputs": [],
   "source": [
    "run.stop()"
   ]
  }
 ],
 "metadata": {
  "kernelspec": {
   "display_name": "Python 3",
   "language": "python",
   "name": "python3"
  },
  "language_info": {
   "codemirror_mode": {
    "name": "ipython",
    "version": 3
   },
   "file_extension": ".py",
   "mimetype": "text/x-python",
   "name": "python",
   "nbconvert_exporter": "python",
   "pygments_lexer": "ipython3",
   "version": "3.7.16"
  },
  "orig_nbformat": 4
 },
 "nbformat": 4,
 "nbformat_minor": 2
}
